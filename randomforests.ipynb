{
  "nbformat": 4,
  "nbformat_minor": 0,
  "metadata": {
    "colab": {
      "name": "randomforests.ipynb",
      "provenance": [],
      "collapsed_sections": []
    },
    "kernelspec": {
      "name": "python3",
      "display_name": "Python 3"
    }
  },
  "cells": [
    {
      "cell_type": "code",
      "metadata": {
        "id": "IUGSic_xvGMe"
      },
      "source": [
        "import csv\n",
        "import numpy as np\n",
        "import random\n",
        "import torch\n",
        "import torch.utils.data\n",
        "\n",
        "import numpy as np\n",
        "import time\n",
        "import torch\n",
        "import torch.nn as nn\n",
        "import torch.nn.functional as F\n",
        "import torch.optim as optim\n",
        "import torchvision\n",
        "from torch.utils.data.sampler import SubsetRandomSampler\n",
        "import torchvision.transforms as transforms\n",
        "\n",
        "import os\n",
        "from torchvision import datasets, models, transforms\n",
        "import matplotlib.pyplot as plt\n",
        "\n",
        "import pandas as pd\n",
        "from torch.autograd import Variable"
      ],
      "execution_count": null,
      "outputs": []
    },
    {
      "cell_type": "code",
      "metadata": {
        "id": "oKPBjCfbvTPa",
        "outputId": "5de60bc6-065f-4ca9-f619-e57aabd34277",
        "colab": {
          "base_uri": "https://localhost:8080/",
          "height": 34
        }
      },
      "source": [
        "from google.colab import drive\n",
        "drive.mount('/content/drive')"
      ],
      "execution_count": null,
      "outputs": [
        {
          "output_type": "stream",
          "text": [
            "Drive already mounted at /content/drive; to attempt to forcibly remount, call drive.mount(\"/content/drive\", force_remount=True).\n"
          ],
          "name": "stdout"
        }
      ]
    },
    {
      "cell_type": "code",
      "metadata": {
        "id": "Em5FNivjvUjG"
      },
      "source": [
        "header = ['title', 'address', 'unit_type', 'price', 'bedrooms', 'bathrooms', 'apartment_lat', 'apartment_lon', 'hydro_included', 'heat_included', \n",
        "          'water_included', 'laundry_included', 'backyard_included', 'parking_included', 'gym_included', 'sqft', 'furnished', 'air_conditioning', \n",
        "          'walk_score', 'transit_score', 'bike_score', 'img_1', 'img_2', 'img_3']\n",
        "\n",
        "#header = ['title', 'address', 'unit_type', 'price', 'bedrooms', 'bathrooms', 'apartment_lat', 'apartment_lon',  \n",
        "#          'laundry_included', 'backyard_included', 'parking_included', 'gym_included', 'sqft', 'air_conditioning', \n",
        "#          'walk_score', 'transit_score', 'bike_score', 'img_1', 'img_2', 'img_3']\n",
        "#df = pd.read_csv(\"/content/drive/My Drive/Colab Notebooks/scraped_ads_outliers_deleted.csv\", names=header, index_col=False)\n",
        "#df_1 = pd.read_csv(\"/content/drive/My Drive/Colab Notebooks/scraped_ads_July15.csv\", names=header, index_col=False)\n",
        "#df = pd.read_csv(\"/content/drive/My Drive/Colab Notebooks/ads_cleaned.csv\", names=header, index_col=False)\n",
        "#df = pd.read_csv(\"/content/drive/My Drive/Colab Notebooks/testing_ads_DELETE.csv\", names=header, index_col=False)\n",
        "df = pd.read_csv(\"/content/drive/My Drive/Colab Notebooks/ads_cleaned_July22.csv\", names=header, index_col=False)\n",
        "df_demo = pd.read_csv(\"/content/drive/My Drive/Colab Notebooks/demo_aug2.csv\", names=header, index_col=False)"
      ],
      "execution_count": null,
      "outputs": []
    },
    {
      "cell_type": "code",
      "metadata": {
        "id": "ioNKjM8mvWio",
        "outputId": "5d6b0889-a80e-413d-f472-b54ced83596a",
        "colab": {
          "base_uri": "https://localhost:8080/",
          "height": 257
        }
      },
      "source": [
        "df = df[1:]\n",
        "df_demo = df_demo[1:]\n",
        "#df_1 = df_1[1:]\n",
        "#frames = [df, df_1]\n",
        "#df = pd.concat(frames)\n",
        "\n",
        "#df = df[[\"unit_type\", \"price\", \"bedrooms\", \"bathrooms\", \"apartment_lat\", \"apartment_lon\", \"hydro_included\", \"heat_included\", \"water_included\", \"laundry_included\", \"backyard_included\", \"parking_included\",\n",
        "#         \"gym_included\", \"sqft\", \"furnished\", \"air_conditioning\", \"walk_score\", \"transit_score\", \"bike_score\"]]\n",
        "\n",
        "df = df[[\"unit_type\", \"price\", \"bedrooms\", \"bathrooms\", \"apartment_lat\", \"apartment_lon\", \"laundry_included\", \"backyard_included\", \"parking_included\",\n",
        "         \"gym_included\", \"sqft\", \"air_conditioning\", \"walk_score\", \"transit_score\", \"bike_score\"]]\n",
        "\n",
        "df_demo = df_demo[[\"unit_type\", \"price\", \"bedrooms\", \"bathrooms\", \"apartment_lat\", \"apartment_lon\", \"laundry_included\", \"backyard_included\", \"parking_included\",\n",
        "         \"gym_included\", \"sqft\", \"air_conditioning\", \"walk_score\", \"transit_score\", \"bike_score\"]]\n",
        "\n",
        "df_demo = pd.get_dummies(df_demo, columns=[\"unit_type\"]) # one-hot unit_type\n",
        "df = pd.get_dummies(df, columns=[\"unit_type\"]) # one-hot unit_type\n",
        "# to numeric\n",
        "df[\"price\"] = pd.to_numeric(df.price)\n",
        "df[\"bedrooms\"] = pd.to_numeric(df.bedrooms)\n",
        "df[\"bathrooms\"] = pd.to_numeric(df.bathrooms)\n",
        "df[\"apartment_lat\"] = pd.to_numeric(df.apartment_lat)\n",
        "df[\"apartment_lon\"] = pd.to_numeric(df.apartment_lon)\n",
        "df[\"sqft\"] = pd.to_numeric(df.sqft)\n",
        "df[\"walk_score\"] = pd.to_numeric(df.walk_score)\n",
        "df[\"transit_score\"] = pd.to_numeric(df.transit_score)\n",
        "df[\"bike_score\"] = pd.to_numeric(df.bike_score)\n",
        "# get rid of outliers for lat/long/sqft\n",
        "for index, row in df.iterrows():\n",
        "    if(row['apartment_lat'] > 45):\n",
        "      df.at[index, \"apartment_lat\"] = pd.NA\n",
        "    if(row['apartment_lat'] < 43):\n",
        "      df.at[index, \"apartment_lat\"] = pd.NA\n",
        "    if(row['apartment_lon'] > -75):\n",
        "      df.at[index, \"apartment_lon\"] = pd.NA\n",
        "    if(row['apartment_lon'] < -80):\n",
        "      df.at[index, \"apartment_lon\"] = pd.NA\n",
        "    if(row[\"sqft\"] < 50):\n",
        "      df.at[index, \"sqft\"] = pd.NA\n",
        "    if(row[\"sqft\"] > 3000):\n",
        "      df.at[index, \"sqft\"] = pd.NA\n",
        "    if(row[\"price\"] < 100):\n",
        "      df.at[index, \"price\"] = pd.NA\n",
        "#    #DELETE AFTER\n",
        "    #if(row['bedrooms'] < 4):\n",
        "    #  df.at[index, \"bedrooms\"] = pd.NA\n",
        "    #if(row['bedrooms'] > 4):\n",
        "    #  df.at[index, \"bedrooms\"] = pd.NA\n",
        "#    #DELETE AFTER\n",
        "df = df.dropna()\n",
        "# normalize\n",
        "#df[\"price\"] = (df[\"price\"] - df[\"price\"].min()) /(df[\"price\"].max() - df[\"price\"].min()) # normalize price\n",
        "\n",
        "#######\n",
        "#For demo data\n",
        "# to numeric\n",
        "df_demo[\"price\"] = pd.to_numeric(df_demo.price)\n",
        "df_demo[\"bedrooms\"] = pd.to_numeric(df_demo.bedrooms)\n",
        "df_demo[\"bathrooms\"] = pd.to_numeric(df_demo.bathrooms)\n",
        "df_demo[\"apartment_lat\"] = pd.to_numeric(df_demo.apartment_lat)\n",
        "df_demo[\"apartment_lon\"] = pd.to_numeric(df_demo.apartment_lon)\n",
        "df_demo[\"sqft\"] = pd.to_numeric(df_demo.sqft)\n",
        "df_demo[\"walk_score\"] = pd.to_numeric(df_demo.walk_score)\n",
        "df_demo[\"transit_score\"] = pd.to_numeric(df_demo.transit_score)\n",
        "df_demo[\"bike_score\"] = pd.to_numeric(df_demo.bike_score)\n",
        "# get rid of outliers for lat/long/sqft\n",
        "for index, row in df_demo.iterrows():\n",
        "    if(row['apartment_lat'] > 45):\n",
        "      df_demo.at[index, \"apartment_lat\"] = pd.NA\n",
        "    if(row['apartment_lat'] < 43):\n",
        "      df_demo.at[index, \"apartment_lat\"] = pd.NA\n",
        "    if(row['apartment_lon'] > -75):\n",
        "      df_demo.at[index, \"apartment_lon\"] = pd.NA\n",
        "    if(row['apartment_lon'] < -80):\n",
        "      df_demo.at[index, \"apartment_lon\"] = pd.NA\n",
        "    if(row[\"sqft\"] < 50):\n",
        "      df_demo.at[index, \"sqft\"] = pd.NA\n",
        "    if(row[\"sqft\"] > 3000):\n",
        "      df_demo.at[index, \"sqft\"] = pd.NA\n",
        "    if(row[\"price\"] < 100):\n",
        "      df_demo.at[index, \"price\"] = pd.NA\n",
        "#    #DELETE AFTER\n",
        "#    if(row['bedrooms'] > 2):\n",
        "#      df.at[index, \"bedrooms\"] = pd.NA\n",
        "#    #DELETE AFTER\n",
        "df_demo = df_demo.dropna()\n",
        "# normalize\n",
        "#df[\"price\"] = (df[\"price\"] - df[\"price\"].min()) /(df[\"price\"].max() - df[\"price\"].min()) # normalize price\n",
        "df_demo[\"bedrooms\"] = (df_demo[\"bedrooms\"] - df[\"bedrooms\"].min()) /(df[\"bedrooms\"].max() - df[\"bedrooms\"].min()) # normalize bedrooms\n",
        "df_demo[\"bathrooms\"] = (df_demo[\"bathrooms\"] - df[\"bathrooms\"].min()) /(df[\"bathrooms\"].max() - df[\"bathrooms\"].min()) # normalize bathrooms\n",
        "df_demo[\"apartment_lat\"] = (df_demo[\"apartment_lat\"] - df[\"apartment_lat\"].min()) /(df[\"apartment_lat\"].max() - df[\"apartment_lat\"].min()) # normalize apartment_lat\n",
        "df_demo[\"apartment_lon\"] = (df_demo[\"apartment_lon\"] - df[\"apartment_lon\"].min()) /(df[\"apartment_lon\"].max() - df[\"apartment_lon\"].min()) # normalize apartment_lon\n",
        "df_demo[\"sqft\"] = (df_demo[\"sqft\"] - df[\"sqft\"].min()) /(df[\"sqft\"].max() - df[\"sqft\"].min()) # normalize sqft\n",
        "df_demo[\"walk_score\"] = (df_demo[\"walk_score\"] - df[\"walk_score\"].min()) /(df[\"walk_score\"].max() - df[\"walk_score\"].min()) # normalize walk_score\n",
        "df_demo[\"transit_score\"] = (df_demo[\"transit_score\"] - df[\"transit_score\"].min()) /(df[\"transit_score\"].max() - df[\"transit_score\"].min()) # normalize transit_score\n",
        "df_demo[\"bike_score\"] = (df_demo[\"bike_score\"] - df[\"bike_score\"].min()) /(df[\"bike_score\"].max() - df[\"bike_score\"].min()) # normalize transit_score\n",
        "#print(df_demo)\n",
        "df_demo.to_csv('/content/drive/My Drive/Colab Notebooks/file_name_demo.csv', index=False)\n",
        "datanp_demo = df_demo.values.astype(np.float32)\n",
        "######\n",
        "dataCp = df.values.astype(np.float32)\n",
        "#df[\"bedrooms\"] = (df[\"bedrooms\"] - df[\"bedrooms\"].min()) /(df[\"bedrooms\"].max() - df[\"bedrooms\"].min()) # normalize bedrooms\n",
        "df[\"bathrooms\"] = (df[\"bathrooms\"] - df[\"bathrooms\"].min()) /(df[\"bathrooms\"].max() - df[\"bathrooms\"].min()) # normalize bathrooms\n",
        "df[\"apartment_lat\"] = (df[\"apartment_lat\"] - df[\"apartment_lat\"].min()) /(df[\"apartment_lat\"].max() - df[\"apartment_lat\"].min()) # normalize apartment_lat\n",
        "df[\"apartment_lon\"] = (df[\"apartment_lon\"] - df[\"apartment_lon\"].min()) /(df[\"apartment_lon\"].max() - df[\"apartment_lon\"].min()) # normalize apartment_lon\n",
        "df[\"sqft\"] = (df[\"sqft\"] - df[\"sqft\"].min()) /(df[\"sqft\"].max() - df[\"sqft\"].min()) # normalize sqft\n",
        "df[\"walk_score\"] = (df[\"walk_score\"] - df[\"walk_score\"].min()) /(df[\"walk_score\"].max() - df[\"walk_score\"].min()) # normalize walk_score\n",
        "df[\"transit_score\"] = (df[\"transit_score\"] - df[\"transit_score\"].min()) /(df[\"transit_score\"].max() - df[\"transit_score\"].min()) # normalize transit_score\n",
        "df[\"bike_score\"] = (df[\"bike_score\"] - df[\"bike_score\"].min()) /(df[\"bike_score\"].max() - df[\"bike_score\"].min()) # normalize transit_score\n",
        "print(df)\n",
        "df.to_csv('/content/drive/My Drive/Colab Notebooks/file_name.csv', index=False)\n",
        "datanp = df.values.astype(np.float32)"
      ],
      "execution_count": null,
      "outputs": [
        {
          "output_type": "stream",
          "text": [
            "       price  bedrooms  ...  unit_type_Not Available  unit_type_Townhouse\n",
            "1     1350.0       1.0  ...                        0                    0\n",
            "2     1100.0       1.0  ...                        0                    0\n",
            "3     1292.0       1.0  ...                        0                    0\n",
            "4     2054.0       1.0  ...                        0                    0\n",
            "5     2059.0       1.0  ...                        0                    0\n",
            "...      ...       ...  ...                      ...                  ...\n",
            "2479  1925.0       2.0  ...                        0                    0\n",
            "2480  2300.0       2.0  ...                        0                    0\n",
            "2481  1400.0       1.0  ...                        0                    0\n",
            "2482  1695.0       1.0  ...                        0                    0\n",
            "2483  1500.0       1.0  ...                        0                    0\n",
            "\n",
            "[2482 rows x 21 columns]\n"
          ],
          "name": "stdout"
        }
      ]
    },
    {
      "cell_type": "code",
      "metadata": {
        "id": "i9Mo6YzAIvAE",
        "outputId": "60a26b52-abfc-4d19-8458-832f136f8c79",
        "colab": {
          "base_uri": "https://localhost:8080/",
          "height": 240
        }
      },
      "source": [
        "# set the numpy seed for reproducibility\n",
        "# https://docs.scipy.org/doc/numpy/reference/generated/numpy.random.seed.html\n",
        "np.random.seed(50)\n",
        "\n",
        "# todo\n",
        "np.random.shuffle(datanp_demo)\n",
        "print(df_demo)"
      ],
      "execution_count": null,
      "outputs": [
        {
          "output_type": "stream",
          "text": [
            "   price  bedrooms  ...  unit_type_Not Available unit_type_Townhouse\n",
            "1    850     0.000  ...                        0                   0\n",
            "2   3000     0.750  ...                        0                   0\n",
            "3   1350     0.000  ...                        0                   0\n",
            "4   2400     0.250  ...                        0                   0\n",
            "5   2097     0.125  ...                        0                   0\n",
            "6   2100     0.125  ...                        0                   0\n",
            "11  2500     0.250  ...                        0                   0\n",
            "12  3500     0.250  ...                        0                   0\n",
            "13  2140     0.000  ...                        0                   0\n",
            "14  8500     0.500  ...                        0                   0\n",
            "\n",
            "[10 rows x 21 columns]\n"
          ],
          "name": "stdout"
        }
      ]
    },
    {
      "cell_type": "code",
      "metadata": {
        "id": "VbjXFb3K_GgB",
        "outputId": "6c03af7f-4a2d-4bfc-825e-6c47446ed884",
        "colab": {
          "base_uri": "https://localhost:8080/",
          "height": 51
        }
      },
      "source": [
        "# set the numpy seed for reproducibility\n",
        "# https://docs.scipy.org/doc/numpy/reference/generated/numpy.random.seed.html\n",
        "np.random.seed(50)\n",
        "\n",
        "# todo\n",
        "#np.random.shuffle(datanp)\n",
        "#np.random.shuffle(dataCp)\n",
        "\n",
        "train_index = int(datanp.shape[0] * 0.9)\n",
        "\n",
        "#train_set = datanp\n",
        "\n",
        "#\n",
        "train_set = datanp[:train_index]\n",
        "test_set = datanp[train_index:]\n",
        "\n",
        "test_set_CP = dataCp[train_index:]\n",
        "\n",
        "print(\"# Train Set: \" + str(train_set.shape[0]))\n",
        "print(\"# Test Set: \" + str(test_set.shape[0]))"
      ],
      "execution_count": null,
      "outputs": [
        {
          "output_type": "stream",
          "text": [
            "# Train Set: 2233\n",
            "# Test Set: 249\n"
          ],
          "name": "stdout"
        }
      ]
    },
    {
      "cell_type": "code",
      "metadata": {
        "id": "hLdTnMkaBvXe",
        "outputId": "d75ec5ca-2ff6-4669-9193-e2bab9e4458c",
        "colab": {
          "base_uri": "https://localhost:8080/",
          "height": 34
        }
      },
      "source": [
        "target= np.array(train_set[:,0])\n",
        "print(target)"
      ],
      "execution_count": null,
      "outputs": [
        {
          "output_type": "stream",
          "text": [
            "[1350. 1100. 1292. ... 1695. 1495. 2400.]\n"
          ],
          "name": "stdout"
        }
      ]
    },
    {
      "cell_type": "code",
      "metadata": {
        "id": "MnX2pk6L1YcF",
        "outputId": "d40787fd-63e9-47de-85cc-b31de9aad6a4",
        "colab": {
          "base_uri": "https://localhost:8080/",
          "height": 403
        }
      },
      "source": [
        "#target= np.array(df['price'])\n",
        "target= np.array(train_set[:,0])\n",
        "print(target)\n",
        "#features = df.drop('price', axis = 1)\n",
        "#feature_list = list(features.columns)\n",
        "features = np.array(train_set[:,1:])\n",
        "\n",
        "## RANDOM FOREST - KFOLD AND MODEL \n",
        "\n",
        "start_time = time.time()\n",
        "from sklearn.model_selection import KFold\n",
        "from sklearn.ensemble import RandomForestRegressor\n",
        "    \n",
        "kf = KFold(n_splits=10,random_state=43,shuffle=True)\n",
        "accuracies = []\n",
        "for train_index, test_index in kf.split(features):\n",
        "\n",
        "    data_train   = features[train_index]\n",
        "    target_train = target[train_index]\n",
        "\n",
        "    data_test    = features[test_index]\n",
        "    target_test  = target[test_index]\n",
        "\n",
        "    #rf = RandomForestRegressor(n_estimators = 1000, \n",
        "    #                           random_state = 42, \n",
        "    #                           criterion = 'mse',\n",
        "    #                           bootstrap=True)\n",
        "    rf = RandomForestRegressor(n_estimators = 1000, \n",
        "                               random_state = 43, \n",
        "                               criterion = 'mse',\n",
        "                               min_samples_leaf = 1,\n",
        "                               min_samples_split= 2,\n",
        "                               max_features = 'sqrt',\n",
        "                               bootstrap=False,\n",
        "                               max_depth = None)\n",
        "    \n",
        "    rf.fit(data_train, target_train)\n",
        "\n",
        "    predictions = rf.predict(data_test)\n",
        "\n",
        "    errors = abs(predictions - target_test)\n",
        "    #print(errors)\n",
        "\n",
        "    print('Mean Absolute Error:', round(np.mean(errors), 2))\n",
        "    \n",
        "    mape = 100 * (errors / target_test)\n",
        "    accuracy = 100 - np.mean(mape)\n",
        "    print('Accuracy:', round(accuracy, 2), '%.')\n",
        "\n",
        "    accuracies.append(accuracy)\n",
        "\n",
        "average_accuracy = np.mean(accuracies)\n",
        "print('Average accuracy:', average_accuracy)\n",
        "end_time = time.time()\n",
        "elapsed_time = end_time - start_time\n",
        "print(\"Total time elapsed: {:.2f} seconds\".format(elapsed_time))"
      ],
      "execution_count": null,
      "outputs": [
        {
          "output_type": "stream",
          "text": [
            "[1350. 1100. 1292. ... 1695. 1495. 2400.]\n",
            "Mean Absolute Error: 196.76\n",
            "Accuracy: 89.42 %.\n",
            "Mean Absolute Error: 219.74\n",
            "Accuracy: 90.26 %.\n",
            "Mean Absolute Error: 217.51\n",
            "Accuracy: 88.56 %.\n",
            "Mean Absolute Error: 210.89\n",
            "Accuracy: 89.18 %.\n",
            "Mean Absolute Error: 179.41\n",
            "Accuracy: 89.85 %.\n",
            "Mean Absolute Error: 169.48\n",
            "Accuracy: 91.12 %.\n",
            "Mean Absolute Error: 207.18\n",
            "Accuracy: 88.79 %.\n",
            "Mean Absolute Error: 175.5\n",
            "Accuracy: 90.05 %.\n",
            "Mean Absolute Error: 207.72\n",
            "Accuracy: 88.16 %.\n",
            "Mean Absolute Error: 186.66\n",
            "Accuracy: 89.67 %.\n",
            "Average accuracy: 89.50505581113778\n",
            "Total time elapsed: 51.09 seconds\n"
          ],
          "name": "stdout"
        }
      ]
    },
    {
      "cell_type": "code",
      "metadata": {
        "id": "MWkKo1MY2kuI",
        "outputId": "16041ce5-97ba-4726-e03f-d321896c854f",
        "colab": {
          "base_uri": "https://localhost:8080/",
          "height": 253
        }
      },
      "source": [
        "#newdata = pd.DataFrame().reindex_like(amsmodel1)\n",
        "#newdata.fillna(value=0, inplace=True)\n",
        "\n",
        "# delete the variable to be predicted\n",
        "#del newdata['house_price']\n",
        "#newdata = newdata.iloc[[1]]\n",
        "\n",
        "# insert information about your apartment \n",
        "#newdata['bedrooms'] = 1\n",
        "#newdata['surface'] = 45\n",
        "#newdata['yelp_prices'] = 2.234043\n",
        "#newdata['yelp_ratings'] = 4.113475\n",
        "\n",
        "# only change the number values in the postcode \n",
        "# and string values after the _ for the rental agency\n",
        "#newdata[\"['p']_1018\"]= 1\n",
        "#newdata[\"['ag']_JLG Real Estate\"] = 1\n",
        "\n",
        "#for dataEnt in test_set:\n",
        "#  price_label = dataEnt[0]\n",
        "#  newdata = dataEnt[1:]\n",
        "#  print(rf.predict(newdata))\n",
        "\n",
        "#haHaa = rf.predict(datanp_demo[:,1:])\n",
        "#lulset = datanp_demo[:,0]\n",
        "\n",
        "haHaa = rf.predict(test_set[:,1:])\n",
        "lulset = test_set_CP[:,0]\n",
        "\n",
        "e_0 = 0\n",
        "e_1 = 0\n",
        "e_2 = 0\n",
        "e_3 = 0\n",
        "\n",
        "for i in range(len(haHaa)):\n",
        "    #print(\"Prediction: \", haHaa[i])\n",
        "    #print(\"Actual: \", lulset[i])\n",
        "    if (abs(haHaa[i]-lulset[i]) <= lulset[i]*0.16):\n",
        "      e_0 += 1\n",
        "    elif (abs(haHaa[i]-lulset[i]) > lulset[i]*0.16 and abs(haHaa[i]-lulset[i]) <= lulset[i]*0.3):\n",
        "      e_1 += 1\n",
        "    elif (abs(haHaa[i]-lulset[i]) > lulset[i]*0.3 and abs(haHaa[i]-lulset[i]) <= lulset[i]*0.5):\n",
        "      e_2 += 1\n",
        "    else:\n",
        "      e_3 += 1\n",
        "\n",
        "\n",
        "labels = 'Within 10%', '10%-30%', '30%-50%', '50%+'\n",
        "sizes = [e_0, e_1, e_2, e_3]\n",
        "explode = (0.1, 0, 0, 0)  # only \"explode\" the 2nd slice (i.e. 'Hogs')\n",
        "\n",
        "fig1, ax1 = plt.subplots()\n",
        "ax1.pie(sizes, explode=explode, labels=labels, autopct='%1.1f%%',\n",
        "        shadow=True, startangle=90)\n",
        "ax1.axis('equal')  # Equal aspect ratio ensures that pie is drawn as a circle.\n",
        "\n",
        "plt.show()"
      ],
      "execution_count": null,
      "outputs": [
        {
          "output_type": "display_data",
          "data": {
            "image/png": "[encoded data removed]",
            "text/plain": [
              "<Figure size 432x288 with 1 Axes>"
            ]
          },
          "metadata": {
            "tags": []
          }
        }
      ]
    },
    {
      "cell_type": "code",
      "metadata": {
        "id": "TBi603LfX5uN"
      },
      "source": [
        "np.savetxt(\"/content/drive/My Drive/Colab Notebooks/foo.csv\", haHaa, delimiter=\",\")\n",
        "np.savetxt(\"/content/drive/My Drive/Colab Notebooks/bar.csv\", test_set_CP, delimiter=\",\")"
      ],
      "execution_count": null,
      "outputs": []
    }
  ]
}