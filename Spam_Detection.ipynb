{
  "nbformat": 4,
  "nbformat_minor": 0,
  "metadata": {
    "colab": {
      "name": "Lab_5_Spam_Detection.ipynb",
      "provenance": [],
      "collapsed_sections": [],
      "toc_visible": true
    },
    "kernelspec": {
      "display_name": "Python 3",
      "language": "python",
      "name": "python3"
    },
    "language_info": {
      "codemirror_mode": {
        "name": "ipython",
        "version": 3
      },
      "file_extension": ".py",
      "mimetype": "text/x-python",
      "name": "python",
      "nbconvert_exporter": "python",
      "pygments_lexer": "ipython3",
      "version": "3.7.4"
    }
  },
  "cells": [
    {
      "cell_type": "markdown",
      "metadata": {
        "id": "_bphECiUa9zw"
      },
      "source": [
        "# Lab 5: Spam Detection\n",
        "\n",
        "**Deadline**: Thursday, July 9, 11:59pm\n",
        "\n",
        "**Late Penalty**: There is a penalty-free grace period of one hour past the deadline. Any work that is submitted between 1 hour and 24 hours past the deadline will receive a 20% grade deduction. No other late work is accepted. Quercus submission time will be used, not your local computer time. You can submit your labs as many times as you want before the deadline, so please submit often and early.\n",
        "\n",
        "**TA**: Baiwu (Chris) Zhang  \n",
        "\n",
        "In this assignment, we will build a recurrent neural network to classify a SMS text message\n",
        "as \"spam\" or \"not spam\". In the process, you will\n",
        "    \n",
        "1. Clean and process text data for machine learning.\n",
        "2. Understand and implement a character-level recurrent neural network.\n",
        "3. Use torchtext to build recurrent neural network models.\n",
        "4. Understand batching for a recurrent neural network, and use torchtext to implement RNN batching.\n",
        "\n",
        "### What to submit\n",
        "\n",
        "Submit a PDF file containing all your code, outputs, and write-up. You can produce a PDF of your Google Colab file by going to File > Print and then save as PDF. The Colab instructions have more information (.html files are also acceptable).\n",
        "\n",
        "Do not submit any other files produced by your code.\n",
        "\n",
        "Include a link to your colab file in your submission."
      ]
    },
    {
      "cell_type": "markdown",
      "metadata": {
        "id": "rWiUqJJTa9z6"
      },
      "source": [
        "## Colab Link\n",
        "\n",
        "Include a link to your Colab file here. If you would like the TA to look at your\n",
        "Colab file in case your solutions are cut off, **please make sure that your Colab\n",
        "file is publicly accessible at the time of submission**.\n",
        "\n",
        "Colab Link:"
      ]
    },
    {
      "cell_type": "code",
      "metadata": {
        "id": "HgfNOUaPa9z8"
      },
      "source": [
        "import torch\n",
        "import torch.nn as nn\n",
        "import torch.nn.functional as F\n",
        "import torch.optim as optim\n",
        "import numpy as np"
      ],
      "execution_count": null,
      "outputs": []
    },
    {
      "cell_type": "markdown",
      "metadata": {
        "id": "M0jLI9LBa90C"
      },
      "source": [
        "## Part 1. Data Cleaning [15 pt]\n",
        "\n",
        "We will be using the \"SMS Spam Collection Data Set\" available at http://archive.ics.uci.edu/ml/datasets/SMS+Spam+Collection\n",
        "\n",
        "There is a link to download the \"Data Folder\" at the very top of the webpage. Download the zip file, unzip it, and upload the file `SMSSpamCollection` to Colab.    "
      ]
    },
    {
      "cell_type": "markdown",
      "metadata": {
        "id": "sSuF7C_Ga90E"
      },
      "source": [
        "### Part (a) [2 pt]\n",
        "\n",
        "Open up the file in Python, and print out one example of a spam SMS, and one example of a non-spam SMS.\n",
        "\n",
        "What is the label value for a spam message, and what is the label value for a non-spam message?"
      ]
    },
    {
      "cell_type": "code",
      "metadata": {
        "id": "9psl8GLy3heN",
        "outputId": "2c97d17a-27a7-47a7-eb98-c016739b52b4",
        "colab": {
          "base_uri": "https://localhost:8080/",
          "height": 34
        }
      },
      "source": [
        "from google.colab import drive\n",
        "drive.mount('/content/drive')"
      ],
      "execution_count": null,
      "outputs": [
        {
          "output_type": "stream",
          "text": [
            "Drive already mounted at /content/drive; to attempt to forcibly remount, call drive.mount(\"/content/drive\", force_remount=True).\n"
          ],
          "name": "stdout"
        }
      ]
    },
    {
      "cell_type": "code",
      "metadata": {
        "id": "I_IfXHeTa90F",
        "outputId": "d9c5fcf6-d7bf-4af1-d2fd-34d582ee023f",
        "colab": {
          "base_uri": "https://localhost:8080/",
          "height": 85
        }
      },
      "source": [
        "counter = 0\n",
        "for line in open('/content/drive/My Drive/Colab Notebooks/SMSSpamCollection'):\n",
        "  if (line[0] == \"h\" and counter == 0):\n",
        "    counter += 1\n",
        "    print(line)\n",
        "  elif (line[0] == \"s\" and counter == 1):\n",
        "    counter += 1\n",
        "    print(line)\n",
        "\n",
        "  if (counter > 2):\n",
        "    break\n",
        "\n",
        "#spam = spam\n",
        "#non spam = ham"
      ],
      "execution_count": null,
      "outputs": [
        {
          "output_type": "stream",
          "text": [
            "ham\tGo until jurong point, crazy.. Available only in bugis n great world la e buffet... Cine there got amore wat...\n",
            "\n",
            "spam\tFree entry in 2 a wkly comp to win FA Cup final tkts 21st May 2005. Text FA to 87121 to receive entry question(std txt rate)T&C's apply 08452810075over18's\n",
            "\n"
          ],
          "name": "stdout"
        }
      ]
    },
    {
      "cell_type": "markdown",
      "metadata": {
        "id": "AukA6vMVa90d"
      },
      "source": [
        "### Part (b) [1 pt]\n",
        "\n",
        "How many spam messages are there in the data set?\n",
        "How many non-spam messages are there in the data set?\n"
      ]
    },
    {
      "cell_type": "code",
      "metadata": {
        "id": "LgsqyemVa90e",
        "outputId": "662030f2-b0b5-4d67-a18a-c44c085c6d70",
        "colab": {
          "base_uri": "https://localhost:8080/",
          "height": 51
        }
      },
      "source": [
        "spam_c = 0\n",
        "ham_c = 0\n",
        "for line in open('/content/drive/My Drive/Colab Notebooks/SMSSpamCollection'):\n",
        "  if (line[0] == \"h\"):\n",
        "    ham_c += 1\n",
        "  else:\n",
        "    spam_c += 1\n",
        "\n",
        "print(\"SPAM:\", spam_c)\n",
        "print(\"HAM:\", ham_c)"
      ],
      "execution_count": null,
      "outputs": [
        {
          "output_type": "stream",
          "text": [
            "SPAM: 747\n",
            "HAM: 4827\n"
          ],
          "name": "stdout"
        }
      ]
    },
    {
      "cell_type": "markdown",
      "metadata": {
        "id": "d1WXxVt6a90h"
      },
      "source": [
        "### Part (c) [4 pt]\n",
        "\n",
        "We will be using the package `torchtext` to load, process, and batch the data.\n",
        "A tutorial to torchtext is available below. This tutorial uses the same\n",
        "Sentiment140 data set that we explored during lecture.\n",
        "\n",
        "https://medium.com/@sonicboom8/sentiment-analysis-torchtext-55fb57b1fab8\n",
        "\n",
        "Unlike what we did during lecture, we will be building a **character level RNN**.\n",
        "That is, we will treat each **character** as a token in our sequence,\n",
        "rather than each **word**.\n",
        "\n",
        "Identify two advantage and two disadvantage of modelling SMS text\n",
        "messages as a sequence of characters rather than a sequence of words."
      ]
    },
    {
      "cell_type": "code",
      "metadata": {
        "id": "Mhnz8Nk-a90i"
      },
      "source": [
        "#Advantages of using characters rather than words:\n",
        "#There are thousands of words in a vocabulary - storing each word representation is costly (memory)\n",
        "#Many spam messages have recurring characters that may be easy to identify\n",
        "\n",
        "#Disadvantage to using character rather than words:\n",
        "#Does not understand the context of word -> word\n",
        "#higher computational cost for char based embeddings"
      ],
      "execution_count": null,
      "outputs": []
    },
    {
      "cell_type": "markdown",
      "metadata": {
        "id": "ie_D0bv9a90k"
      },
      "source": [
        "### Part (d) [1 pt]\n",
        "\n",
        "We will be loading our data set using `torchtext.data.TabularDataset`. The\n",
        "constructor will read directly from the `SMSSpamCollection` file. \n",
        "\n",
        "For the data file to be read successfuly, we\n",
        "need to specify the **fields** (columns) in the file. \n",
        "In our case, the dataset has two fields: \n",
        "\n",
        "- a text field containing the sms messages,\n",
        "- a label field which will be converted into a binary label.\n",
        "\n",
        "Split the dataset into `train`, `valid`, and `test`. Use a 60-20-20 split.\n",
        "You may find this torchtext API page helpful:\n",
        "https://torchtext.readthedocs.io/en/latest/data.html#dataset\n",
        "\n",
        "Hint: There is a `Dataset` method that can perform the random split for you."
      ]
    },
    {
      "cell_type": "code",
      "metadata": {
        "id": "P_Y6Puz9a90l"
      },
      "source": [
        "import torchtext\n",
        "\n",
        "text_field = torchtext.data.Field(sequential=True,      # text sequence\n",
        "                                  tokenize=lambda x: x, # because are building a character-RNN\n",
        "                                  include_lengths=True, # to track the length of sequences, for batching\n",
        "                                  batch_first=True,\n",
        "                                  use_vocab=True)       # to turn each character into an integer index\n",
        "label_field = torchtext.data.Field(sequential=False,    # not a sequence\n",
        "                                   use_vocab=False,     # don't need to track vocabulary\n",
        "                                   is_target=True,      \n",
        "                                   batch_first=True,\n",
        "                                   preprocessing=lambda x: int(x == 'spam')) # convert text to 0 and 1\n",
        "\n",
        "fields = [('label', label_field), ('sms', text_field)]\n",
        "dataset = torchtext.data.TabularDataset(\"/content/drive/My Drive/Colab Notebooks/SMSSpamCollection\", # name of the file\n",
        "                                        \"tsv\",               # fields are separated by a tab\n",
        "                                        fields)\n",
        "\n",
        "# dataset[0].sms\n",
        "# dataset[0].label\n",
        "train, valid, test = dataset.split(split_ratio=[0.6, 0.2, 0.2])\n"
      ],
      "execution_count": null,
      "outputs": []
    },
    {
      "cell_type": "markdown",
      "metadata": {
        "id": "v6nP0Ks_a90o"
      },
      "source": [
        "### Part (e) [2 pt]\n",
        "\n",
        "You saw in part (b) that there are many more non-spam messages than spam messages.\n",
        "This **imbalance** in our training data will be problematic for training.\n",
        "We can fix this disparity by duplicating spam messages in the training set,\n",
        "so that the training set is roughly **balanced**.\n",
        "\n",
        "Explain why having a balanced training set is helpful for training our neural network.\n",
        "\n",
        "Note: if you are not sure, try removing the below code and train your mode."
      ]
    },
    {
      "cell_type": "code",
      "metadata": {
        "id": "FWvx9_rka90p"
      },
      "source": [
        "# save the original training examples\n",
        "old_train_examples = train.examples\n",
        "# get all the spam messages in `train`\n",
        "train_spam = []\n",
        "for item in train.examples:\n",
        "    if item.label == 1:\n",
        "        train_spam.append(item)\n",
        "# duplicate each spam message 6 more times\n",
        "train.examples = old_train_examples + train_spam * 6\n",
        "\n",
        "#balanced training set -> model has equal experience in recognizing spam and no spam\n",
        "#parameters will not be tuned to only revognize a certain type of message"
      ],
      "execution_count": null,
      "outputs": []
    },
    {
      "cell_type": "markdown",
      "metadata": {
        "id": "j7eUmBEva90r"
      },
      "source": [
        "### Part (f) [1 pt]\n",
        "\n",
        "We need to build the vocabulary on the training data by running the below code.\n",
        "This finds all the possible character tokens in the training set.\n",
        "\n",
        "Explain what the variables `text_field.vocab.stoi` and `text_field.vocab.itos` represent."
      ]
    },
    {
      "cell_type": "code",
      "metadata": {
        "id": "8CQM8flKa90s",
        "outputId": "31873cbb-79b6-43b5-ad0d-b388f432883a",
        "colab": {
          "base_uri": "https://localhost:8080/",
          "height": 71
        }
      },
      "source": [
        "text_field.build_vocab(train)\n",
        "print(text_field.vocab.stoi)\n",
        "print(text_field.vocab.itos)\n",
        "\n",
        "#stoi -> mapping token strings to numerical identifiers.\n",
        "#itos -> A list of token strings indexed by their numerical identifiers"
      ],
      "execution_count": null,
      "outputs": [
        {
          "output_type": "stream",
          "text": [
            "defaultdict(<function _default_unk_index at 0x7f88cb4e79d8>, {'<unk>': 0, '<pad>': 1, ' ': 2, 'e': 3, 'o': 4, 't': 5, 'a': 6, 'n': 7, 'r': 8, 'i': 9, 's': 10, 'l': 11, 'u': 12, 'h': 13, '0': 14, 'd': 15, '.': 16, 'c': 17, 'm': 18, 'y': 19, 'w': 20, 'p': 21, 'g': 22, '1': 23, 'f': 24, 'b': 25, '2': 26, 'T': 27, '8': 28, 'k': 29, 'v': 30, '5': 31, 'E': 32, 'S': 33, 'C': 34, 'I': 35, 'O': 36, '4': 37, 'x': 38, 'N': 39, '3': 40, '6': 41, 'A': 42, '7': 43, '!': 44, 'R': 45, ',': 46, 'P': 47, '9': 48, 'W': 49, 'M': 50, 'U': 51, 'H': 52, 'L': 53, 'D': 54, 'B': 55, \"'\": 56, 'G': 57, '/': 58, 'F': 59, 'Y': 60, '?': 61, '£': 62, '-': 63, '&': 64, ':': 65, 'z': 66, 'V': 67, 'X': 68, 'j': 69, 'K': 70, '*': 71, 'J': 72, ')': 73, ';': 74, '+': 75, 'q': 76, '(': 77, 'Q': 78, '#': 79, '\"': 80, '=': 81, '@': 82, 'Z': 83, '>': 84, 'ü': 85, '_': 86, 'Ü': 87, '<': 88, '$': 89, '%': 90, '\\x92': 91, '|': 92, '‘': 93, '[': 94, ']': 95, '\\x93': 96, '’': 97, '“': 98, '…': 99, 'é': 100, '\\\\': 101, '~': 102, '\\x91': 103, '\\x94': 104, '\\x96': 105, '^': 106, 'É': 107, 'è': 108, 'ì': 109, '–': 110, '┾': 111, '〨': 112, '鈥': 113})\n",
            "['<unk>', '<pad>', ' ', 'e', 'o', 't', 'a', 'n', 'r', 'i', 's', 'l', 'u', 'h', '0', 'd', '.', 'c', 'm', 'y', 'w', 'p', 'g', '1', 'f', 'b', '2', 'T', '8', 'k', 'v', '5', 'E', 'S', 'C', 'I', 'O', '4', 'x', 'N', '3', '6', 'A', '7', '!', 'R', ',', 'P', '9', 'W', 'M', 'U', 'H', 'L', 'D', 'B', \"'\", 'G', '/', 'F', 'Y', '?', '£', '-', '&', ':', 'z', 'V', 'X', 'j', 'K', '*', 'J', ')', ';', '+', 'q', '(', 'Q', '#', '\"', '=', '@', 'Z', '>', 'ü', '_', 'Ü', '<', '$', '%', '\\x92', '|', '‘', '[', ']', '\\x93', '’', '“', '…', 'é', '\\\\', '~', '\\x91', '\\x94', '\\x96', '^', 'É', 'è', 'ì', '–', '┾', '〨', '鈥']\n"
          ],
          "name": "stdout"
        }
      ]
    },
    {
      "cell_type": "markdown",
      "metadata": {
        "id": "TC8WVE8Ua90u"
      },
      "source": [
        "### Part (g) [2 pt]\n",
        "\n",
        "The tokens `<unk>` and `<pad>` were not in our SMS text messages.\n",
        "What do these two values represent?"
      ]
    },
    {
      "cell_type": "code",
      "metadata": {
        "id": "y_4Er7KUa90v"
      },
      "source": [
        "#<unk> -> out-of-vocabulary words\n",
        "#<pad> -> padding"
      ],
      "execution_count": null,
      "outputs": []
    },
    {
      "cell_type": "markdown",
      "metadata": {
        "id": "Ff5CNk7Qa90y"
      },
      "source": [
        "### Part (h) [2 pt]\n",
        "\n",
        "Since text sequences are of variable length, `torchtext` provides a `BucketIterator` data loader,\n",
        "which batches similar length sequences together. The iterator also provides functionalities to\n",
        "pad sequences automatically.\n",
        "\n",
        "Take a look at 10 batches in `train_iter`. What is the maximum length of the\n",
        "input sequence in each batch? How many `<pad>` tokens are used in each of the 10\n",
        "batches?"
      ]
    },
    {
      "cell_type": "code",
      "metadata": {
        "id": "V8N8qLWOa90y"
      },
      "source": [
        "train_iter = torchtext.data.BucketIterator(train,\n",
        "                                           batch_size=32,\n",
        "                                           sort_key=lambda x: len(x.sms), # to minimize padding\n",
        "                                           sort_within_batch=True,        # sort within each batch\n",
        "                                           repeat=False)                  # repeat the iterator for many epochs"
      ],
      "execution_count": null,
      "outputs": []
    },
    {
      "cell_type": "code",
      "metadata": {
        "id": "u5onhfqLp8pF"
      },
      "source": [
        "train_iter = torchtext.data.BucketIterator(train,\n",
        "                                           batch_size=32,\n",
        "                                           sort_key=lambda x: len(x.sms), # to minimize padding\n",
        "                                           sort_within_batch=True,        # sort within each batch\n",
        "                                           repeat=False)                  # repeat the iterator for many epochs"
      ],
      "execution_count": null,
      "outputs": []
    },
    {
      "cell_type": "code",
      "metadata": {
        "id": "Qwz-rOaha902",
        "outputId": "bb5fe8bd-cfab-41e8-c960-f354b84a3187",
        "colab": {
          "base_uri": "https://localhost:8080/",
          "height": 187
        }
      },
      "source": [
        "counter = 0\n",
        "for batch in train_iter:\n",
        "  counter += 1\n",
        "  #print(batch.sms[1])\n",
        "  maxm = torch.max(batch.sms[1]).item()\n",
        "  padding_total = 0\n",
        "  for item in batch.sms[1]: \n",
        "    padding_total += (maxm - item.item())\n",
        "  print(padding_total)\n",
        "  if (counter == 10):\n",
        "    break\n",
        "  "
      ],
      "execution_count": null,
      "outputs": [
        {
          "output_type": "stream",
          "text": [
            "32\n",
            "26\n",
            "4\n",
            "0\n",
            "53\n",
            "62\n",
            "44\n",
            "28\n",
            "35\n",
            "48\n"
          ],
          "name": "stdout"
        }
      ]
    },
    {
      "cell_type": "markdown",
      "metadata": {
        "id": "y7HnqP6_a904"
      },
      "source": [
        "## Part 2. Model Building [8 pt]\n",
        "\n",
        "Build a recurrent neural network model, using an architecture of your choosing. \n",
        "Use the one-hot embedding of each character as input to your recurrent network.\n",
        "Use one or more fully-connected layers to make the prediction based on your\n",
        "recurrent network output.\n",
        "\n",
        "Instead of using the RNN output value for the final token, another often used\n",
        "strategy is to max-pool over the entire output array. That is, instead of calling\n",
        "something like:\n",
        "\n",
        "```\n",
        "out, _ = self.rnn(x)\n",
        "self.fc(out[:, -1, :])\n",
        "```\n",
        "\n",
        "where `self.rnn` is an `nn.RNN`, `nn.GRU`, or `nn.LSTM` module, and `self.fc` is a \n",
        "fully-connected \n",
        "layer, we use:\n",
        "\n",
        "```\n",
        "out, _ = self.rnn(x)\n",
        "self.fc(torch.max(out, dim=1)[0])\n",
        "```\n",
        "\n",
        "This works reasonably in practice. An even better alternative is to concatenate the\n",
        "max-pooling and average-pooling of the RNN outputs:\n",
        "\n",
        "```\n",
        "out, _ = self.rnn(x)\n",
        "out = torch.cat([torch.max(out, dim=1)[0], \n",
        "                 torch.mean(out, dim=1)], dim=1)\n",
        "self.fc(out)\n",
        "```\n",
        "\n",
        "We encourage you to try out all these options. The way you pool the RNN outputs\n",
        "is one of the \"hyperparameters\" that you can choose to tune later on."
      ]
    },
    {
      "cell_type": "code",
      "metadata": {
        "id": "jHl1p_Wwa905",
        "outputId": "c6016c78-753f-4b18-b684-2dbb66bf891c",
        "colab": {
          "base_uri": "https://localhost:8080/",
          "height": 102
        }
      },
      "source": [
        "# You might find this code helpful for obtaining\n",
        "# PyTorch one-hot vectors.\n",
        "\n",
        "ident = torch.eye(10)\n",
        "#print(ident[0]) # one-hot vector\n",
        "#print(ident[1]) # one-hot vector\n",
        "x = torch.tensor([[1, 2], [3, 4]])\n",
        "print(ident[x]) # one-hot vectors"
      ],
      "execution_count": null,
      "outputs": [
        {
          "output_type": "stream",
          "text": [
            "tensor([[[0., 1., 0., 0., 0., 0., 0., 0., 0., 0.],\n",
            "         [0., 0., 1., 0., 0., 0., 0., 0., 0., 0.]],\n",
            "\n",
            "        [[0., 0., 0., 1., 0., 0., 0., 0., 0., 0.],\n",
            "         [0., 0., 0., 0., 1., 0., 0., 0., 0., 0.]]])\n"
          ],
          "name": "stdout"
        }
      ]
    },
    {
      "cell_type": "code",
      "metadata": {
        "id": "4LTQ7zFka909"
      },
      "source": [
        "##### SAMPLE CODE #############################################################\n",
        "\n",
        "# RNN Architecture\n",
        "class SpamRNN(nn.Module):\n",
        "\n",
        "  def __init__(self, input_size, hidden_size, num_classes):\n",
        "    super(SpamRNN, self).__init__()\n",
        "    self.ident = torch.eye(input_size)\n",
        "    self.hidden_size = hidden_size\n",
        "    self.num_classes = num_classes\n",
        "    self.rnn = nn.RNN(input_size, hidden_size, num_classes, batch_first=True)\n",
        "    self.fc = nn.Linear(hidden_size, num_classes)\n",
        "\n",
        "  def forward(self, x):\n",
        "    # Look up the embedding\n",
        "    x = self.ident[x]\n",
        "    # Set an initial hidden state\n",
        "    h0 = torch.zeros(self.num_classes, x.size(0), self.hidden_size)\n",
        "    # Forward propagate the RNN\n",
        "    out, _ = self.rnn(x, h0)\n",
        "    # Pass the output of the last time step to the classifier\n",
        "    output = self.fc(torch.max(out, dim=1)[0])\n",
        "    return output\n",
        "\n",
        "###############################################################################"
      ],
      "execution_count": null,
      "outputs": []
    },
    {
      "cell_type": "code",
      "metadata": {
        "id": "2F1qu35lmtfa"
      },
      "source": [
        "##### SAMPLE CODE #############################################################\n",
        "\n",
        "# RNN Architecture\n",
        "class SpamRNN_Another(nn.Module):\n",
        "\n",
        "  def __init__(self, input_size, hidden_size, num_classes):\n",
        "    super(SpamRNN_Another, self).__init__()\n",
        "    self.ident = torch.eye(input_size)\n",
        "    self.hidden_size = hidden_size\n",
        "    self.num_classes = num_classes\n",
        "    self.rnn = nn.RNN(input_size, hidden_size, num_classes, batch_first=True)\n",
        "    self.fc = nn.Linear(hidden_size*2, num_classes)\n",
        "\n",
        "  def forward(self, x):\n",
        "    # Look up the embedding\n",
        "    x = self.ident[x]\n",
        "    # Set an initial hidden state\n",
        "    h0 = torch.zeros(self.num_classes, x.size(0), self.hidden_size)\n",
        "    # Forward propagate the RNN\n",
        "    out, _ = self.rnn(x, h0)\n",
        "    # Pass the output of the last time step to the classifier\n",
        "    output = torch.cat([torch.max(out, dim=1)[0], \n",
        "                 torch.mean(out, dim=1)], dim=1)\n",
        "    output = self.fc(output)\n",
        "    return output\n",
        "\n",
        "###############################################################################"
      ],
      "execution_count": null,
      "outputs": []
    },
    {
      "cell_type": "markdown",
      "metadata": {
        "id": "vKIYPl_Ba90_"
      },
      "source": [
        "## Part 3. Training [16 pt]\n",
        "\n",
        "### Part (a) [4 pt]\n",
        "\n",
        "Complete the `get_accuracy` function, which will compute the\n",
        "accuracy (rate) of your model across a dataset (e.g. validation set).\n",
        "You may modify `torchtext.data.BucketIterator` to make your computation\n",
        "faster."
      ]
    },
    {
      "cell_type": "code",
      "metadata": {
        "id": "pvNfhGD6a91A"
      },
      "source": [
        "##### SAMPLE CODE #############################################################\n",
        "def get_accuracy(model, data, batch_size = 32):\n",
        "    \"\"\" Compute the accuracy of the `model` across a dataset `data`\n",
        "    \n",
        "    Example usage:\n",
        "    \n",
        "    >>> model = MyRNN() # to be defined\n",
        "    >>> get_accuracy(model, valid) # the variable `valid` is from above\n",
        "    \"\"\"\n",
        "    data_iter = torchtext.data.BucketIterator(data,\n",
        "                              batch_size=batch_size,\n",
        "                              sort_key=lambda x: len(x.sms), # to minimize padding\n",
        "                              sort_within_batch=True, # sort within each batch\n",
        "                              repeat=False) # repeat the iterator for many epochs\n",
        "    correct, total = 0, 0\n",
        "    for batch in data_iter:\n",
        "      output = model(batch.sms[0])\n",
        "      pred = output.max(1, keepdim=True)[1]\n",
        "      correct += pred.eq(batch.label.view_as(pred)).sum().item()\n",
        "      total += batch.sms[1].shape[0]\n",
        "    return correct / total\n",
        "\n",
        "###############################################################################"
      ],
      "execution_count": null,
      "outputs": []
    },
    {
      "cell_type": "markdown",
      "metadata": {
        "id": "TlxlcAC1a91C"
      },
      "source": [
        "### Part (b) [4 pt]\n",
        "\n",
        "Train your model. Plot the training curve of your final model. \n",
        "Your training curve should have the training/validation loss and\n",
        "accuracy plotted periodically.\n",
        "\n",
        "Note: Not all of your batches will have the same batch size.\n",
        "In particular, if your training set does not divide evenly by\n",
        "your batch size, there will be a batch that is smaller than\n",
        "the rest. "
      ]
    },
    {
      "cell_type": "code",
      "metadata": {
        "id": "qiGhxz8tAzeq"
      },
      "source": [
        "def get_valid_acc(valid, model):\n",
        "  criterion = nn.CrossEntropyLoss()\n",
        "  for batch in valid:\n",
        "    pred = model(batch.sms[0])\n",
        "    loss = criterion(pred, batch.label)\n",
        "  return float(loss)"
      ],
      "execution_count": null,
      "outputs": []
    },
    {
      "cell_type": "code",
      "metadata": {
        "id": "CVtf7CJCa91D",
        "outputId": "b0b2c1f0-81ca-473f-b7f2-32953990ab84",
        "colab": {
          "base_uri": "https://localhost:8080/",
          "height": 913
        }
      },
      "source": [
        "############### INCOMPLETE SAMPLE CODE #########################################\n",
        "import matplotlib.pyplot as plt\n",
        "def train_rnn_network(model, train, valid, batch_size=32, num_epochs=30, learning_rate=1e-5):\n",
        "  criterion = nn.CrossEntropyLoss()\n",
        "  optimizer = torch.optim.Adam(model.parameters(), lr=learning_rate)\n",
        "\n",
        "  train_loader = torchtext.data.BucketIterator(train,\n",
        "                          batch_size=batch_size,\n",
        "                          sort_key=lambda x: len(x.sms), # to minimize padding\n",
        "                          sort_within_batch=True, # sort within each batch\n",
        "                          repeat=False) # repeat the iterator for many epochs\n",
        "\n",
        "  valid_loader = torchtext.data.BucketIterator(valid,\n",
        "                          batch_size=batch_size,\n",
        "                          sort_key=lambda x: len(x.sms), # to minimize padding\n",
        "                          sort_within_batch=True, # sort within each batch\n",
        "                          repeat=False) # repeat the iterator for many epochs\n",
        "\n",
        "  losses, train_acc, valid_acc = [], [], []\n",
        "  epochs = []\n",
        "  valid_losses = []\n",
        "\n",
        "  for epoch in range(num_epochs):\n",
        "      for batch in train_loader:\n",
        "        optimizer.zero_grad()\n",
        "        #print(batch.sms[0])\n",
        "        pred = model(batch.sms[0])\n",
        "        loss = criterion(pred, batch.label)\n",
        "        loss.backward()\n",
        "        optimizer.step()\n",
        "      losses.append(float(loss))\n",
        "      valid_losses.append(get_valid_acc(valid=valid_loader, model=model))\n",
        "      epochs.append(epoch)\n",
        "      train_acc.append(get_accuracy(model, train))\n",
        "      valid_acc.append(get_accuracy(model, valid))\n",
        "\n",
        "      print(\"epoch: \", epoch, end = \" \")\n",
        "      print(\"train acc: \", get_accuracy(model, train), end = \" \")\n",
        "      print(\"val acc: \", get_accuracy(model, valid))\n",
        "  \n",
        "  plt.title(\"Training Curve\")\n",
        "  plt.plot(losses, label=\"Train\")\n",
        "  plt.plot(valid_losses, label=\"Validation\")\n",
        "  plt.xlabel(\"Epoch\")\n",
        "  plt.ylabel(\"Loss\")\n",
        "  plt.legend(loc='best')\n",
        "  plt.show()\n",
        "\n",
        "  plt.title(\"Training Curve\")\n",
        "  plt.plot(epochs, train_acc, label=\"Train\")\n",
        "  plt.plot(epochs, valid_acc, label=\"Validation\")\n",
        "  plt.xlabel(\"Epoch\")\n",
        "  plt.ylabel(\"Accuracy\")\n",
        "  plt.legend(loc='best')\n",
        "  plt.show()\n",
        "\n",
        "model_1 = SpamRNN(input_size=len(text_field.vocab), hidden_size=20, num_classes=2)\n",
        "train_rnn_network(model_1, train, valid, batch_size=32, num_epochs=20, learning_rate=1e-4)\n",
        "############### INCOMPLETE SAMPLE CODE ######################################### "
      ],
      "execution_count": null,
      "outputs": [
        {
          "output_type": "stream",
          "text": [
            "epoch:  0 train acc:  0.5881391929423296 val acc:  0.874439461883408\n",
            "epoch:  1 train acc:  0.7363175951641888 val acc:  0.4789237668161435\n",
            "epoch:  2 train acc:  0.6175461525894461 val acc:  0.2807174887892377\n",
            "epoch:  3 train acc:  0.678157163862114 val acc:  0.36771300448430494\n",
            "epoch:  4 train acc:  0.7198170233621958 val acc:  0.4538116591928251\n",
            "epoch:  5 train acc:  0.9163535370037575 val acc:  0.8475336322869955\n",
            "epoch:  6 train acc:  0.9400424767194903 val acc:  0.9318385650224216\n",
            "epoch:  7 train acc:  0.9339977127920275 val acc:  0.9426008968609866\n",
            "epoch:  8 train acc:  0.9289331808528019 val acc:  0.947085201793722\n",
            "epoch:  9 train acc:  0.9251756248978925 val acc:  0.95695067264574\n",
            "epoch:  10 train acc:  0.932037248815553 val acc:  0.9560538116591928\n",
            "epoch:  11 train acc:  0.9255023688939715 val acc:  0.9721973094170404\n",
            "epoch:  12 train acc:  0.9390622447312531 val acc:  0.9614349775784753\n",
            "epoch:  13 train acc:  0.9410227087077275 val acc:  0.9695067264573991\n",
            "epoch:  14 train acc:  0.9375918967488972 val acc:  0.9739910313901345\n",
            "epoch:  15 train acc:  0.9491913086097042 val acc:  0.9668161434977578\n",
            "epoch:  16 train acc:  0.9544192125469695 val acc:  0.9551569506726457\n",
            "epoch:  17 train acc:  0.9565430485214834 val acc:  0.9596412556053812\n",
            "epoch:  18 train acc:  0.9487011926155857 val acc:  0.9345291479820628\n",
            "epoch:  19 train acc:  0.9571965365136416 val acc:  0.9632286995515695\n"
          ],
          "name": "stdout"
        },
        {
          "output_type": "display_data",
          "data": {
            "image/png": "[encoded data removed]",
            "text/plain": [
              "<Figure size 432x288 with 1 Axes>"
            ]
          },
          "metadata": {
            "tags": [],
            "needs_background": "light"
          }
        },
        {
          "output_type": "display_data",
          "data": {
            "image/png": "[encoded data removed]",
            "text/plain": [
              "<Figure size 432x288 with 1 Axes>"
            ]
          },
          "metadata": {
            "tags": [],
            "needs_background": "light"
          }
        }
      ]
    },
    {
      "cell_type": "code",
      "metadata": {
        "id": "KJ3Y9LaAnh6m",
        "outputId": "a58ba8b8-789c-4a6f-c6ab-0754eb116c89",
        "colab": {
          "base_uri": "https://localhost:8080/",
          "height": 913
        }
      },
      "source": [
        "model_2 = SpamRNN_Another(input_size=len(text_field.vocab), hidden_size=20, num_classes=2)\n",
        "train_rnn_network(model_2, train, valid, batch_size=32, num_epochs=20, learning_rate=1e-4)"
      ],
      "execution_count": null,
      "outputs": [
        {
          "output_type": "stream",
          "text": [
            "epoch:  0 train acc:  0.5917333768991995 val acc:  0.22869955156950672\n",
            "epoch:  1 train acc:  0.5549746773403039 val acc:  0.16143497757847533\n",
            "epoch:  2 train acc:  0.6972716876327397 val acc:  0.44035874439461886\n",
            "epoch:  3 train acc:  0.9240320209116157 val acc:  0.9399103139013453\n",
            "epoch:  4 train acc:  0.9181506289821925 val acc:  0.9408071748878923\n",
            "epoch:  5 train acc:  0.9322006208135926 val acc:  0.9443946188340807\n",
            "epoch:  6 train acc:  0.9317105048194739 val acc:  0.9094170403587444\n",
            "epoch:  7 train acc:  0.9477209606273485 val acc:  0.947085201793722\n",
            "epoch:  8 train acc:  0.9472308446332298 val acc:  0.9417040358744395\n",
            "epoch:  9 train acc:  0.9493546806077439 val acc:  0.9399103139013453\n",
            "epoch:  10 train acc:  0.9388988727332135 val acc:  0.9139013452914798\n",
            "epoch:  11 train acc:  0.9524587485704951 val acc:  0.9452914798206278\n",
            "epoch:  12 train acc:  0.9518052605783369 val acc:  0.9434977578475336\n",
            "epoch:  13 train acc:  0.9491913086097042 val acc:  0.9345291479820628\n",
            "epoch:  14 train acc:  0.9578500245057997 val acc:  0.9524663677130045\n",
            "epoch:  15 train acc:  0.9611174644665904 val acc:  0.9614349775784753\n",
            "epoch:  16 train acc:  0.9586668844959974 val acc:  0.9506726457399103\n",
            "epoch:  17 train acc:  0.9632413004411043 val acc:  0.9641255605381166\n",
            "epoch:  18 train acc:  0.961607580460709 val acc:  0.9596412556053812\n",
            "epoch:  19 train acc:  0.9611174644665904 val acc:  0.9542600896860987\n"
          ],
          "name": "stdout"
        },
        {
          "output_type": "display_data",
          "data": {
            "image/png": "[encoded data removed]",
            "text/plain": [
              "<Figure size 432x288 with 1 Axes>"
            ]
          },
          "metadata": {
            "tags": [],
            "needs_background": "light"
          }
        },
        {
          "output_type": "display_data",
          "data": {
            "image/png": "[encoded data removed]",
            "text/plain": [
              "<Figure size 432x288 with 1 Axes>"
            ]
          },
          "metadata": {
            "tags": [],
            "needs_background": "light"
          }
        }
      ]
    },
    {
      "cell_type": "code",
      "metadata": {
        "id": "YwHX_vfkdb45",
        "outputId": "83642b32-3017-47a2-cc88-9f9f54055f49",
        "colab": {
          "base_uri": "https://localhost:8080/",
          "height": 1000
        }
      },
      "source": [
        "model_3 = SpamRNN(input_size=len(text_field.vocab), hidden_size=40, num_classes=2)\n",
        "train_rnn_network(model_3, train, valid, batch_size=32, num_epochs=40, learning_rate=1e-4)"
      ],
      "execution_count": null,
      "outputs": [
        {
          "output_type": "stream",
          "text": [
            "epoch:  0 train acc:  0.5294886456461363 val acc:  0.12466367713004484\n",
            "epoch:  1 train acc:  0.6132984806404183 val acc:  0.284304932735426\n",
            "epoch:  2 train acc:  0.92958666884496 val acc:  0.9533632286995516\n",
            "epoch:  3 train acc:  0.9292599248488809 val acc:  0.9668161434977578\n",
            "epoch:  4 train acc:  0.9462506126449927 val acc:  0.9542600896860987\n",
            "epoch:  5 train acc:  0.9477209606273485 val acc:  0.9704035874439462\n",
            "epoch:  6 train acc:  0.9558895605293253 val acc:  0.957847533632287\n",
            "epoch:  7 train acc:  0.9565430485214834 val acc:  0.9641255605381166\n",
            "epoch:  8 train acc:  0.9553994445352066 val acc:  0.9721973094170404\n",
            "epoch:  9 train acc:  0.9611174644665904 val acc:  0.9695067264573991\n",
            "epoch:  10 train acc:  0.9482110766214671 val acc:  0.9713004484304932\n",
            "epoch:  11 train acc:  0.9601372324783533 val acc:  0.9713004484304932\n",
            "epoch:  12 train acc:  0.9648750204214998 val acc:  0.9668161434977578\n",
            "epoch:  13 train acc:  0.9650383924195393 val acc:  0.9704035874439462\n",
            "epoch:  14 train acc:  0.9581767685018788 val acc:  0.9730941704035875\n",
            "epoch:  15 train acc:  0.9619343244567881 val acc:  0.9721973094170404\n",
            "epoch:  16 train acc:  0.96830583238033 val acc:  0.9713004484304932\n",
            "epoch:  17 train acc:  0.9589936284920765 val acc:  0.9748878923766816\n",
            "epoch:  18 train acc:  0.9665087404018952 val acc:  0.9730941704035875\n",
            "epoch:  19 train acc:  0.9696128083646463 val acc:  0.9713004484304932\n",
            "epoch:  20 train acc:  0.965855252409737 val acc:  0.9739910313901345\n",
            "epoch:  21 train acc:  0.9696128083646463 val acc:  0.9730941704035875\n",
            "epoch:  22 train acc:  0.9705930403528835 val acc:  0.9721973094170404\n",
            "epoch:  23 train acc:  0.9727168763273975 val acc:  0.9704035874439462\n",
            "epoch:  24 train acc:  0.9723901323313184 val acc:  0.9695067264573991\n",
            "epoch:  25 train acc:  0.9727168763273975 val acc:  0.9695067264573991\n",
            "epoch:  26 train acc:  0.975004084299951 val acc:  0.9704035874439462\n",
            "epoch:  27 train acc:  0.97533082829603 val acc:  0.9757847533632287\n",
            "epoch:  28 train acc:  0.9678157163862114 val acc:  0.95695067264574\n",
            "epoch:  29 train acc:  0.9751674562979905 val acc:  0.968609865470852\n",
            "epoch:  30 train acc:  0.9759843162881882 val acc:  0.9704035874439462\n",
            "epoch:  31 train acc:  0.9790883842509394 val acc:  0.9775784753363229\n",
            "epoch:  32 train acc:  0.9812122202254534 val acc:  0.9766816143497757\n",
            "epoch:  33 train acc:  0.9794151282470185 val acc:  0.9605381165919282\n",
            "epoch:  34 train acc:  0.979578500245058 val acc:  0.97847533632287\n",
            "epoch:  35 train acc:  0.9852965201764418 val acc:  0.9775784753363229\n",
            "epoch:  36 train acc:  0.9843162881882045 val acc:  0.9721973094170404\n",
            "epoch:  37 train acc:  0.9859500081685999 val acc:  0.9757847533632287\n",
            "epoch:  38 train acc:  0.9846430321842836 val acc:  0.9757847533632287\n",
            "epoch:  39 train acc:  0.9869302401568372 val acc:  0.9730941704035875\n"
          ],
          "name": "stdout"
        },
        {
          "output_type": "display_data",
          "data": {
            "image/png": "[encoded data removed]",
            "text/plain": [
              "<Figure size 432x288 with 1 Axes>"
            ]
          },
          "metadata": {
            "tags": [],
            "needs_background": "light"
          }
        },
        {
          "output_type": "display_data",
          "data": {
            "image/png": "[encoded data removed]",
            "text/plain": [
              "<Figure size 432x288 with 1 Axes>"
            ]
          },
          "metadata": {
            "tags": [],
            "needs_background": "light"
          }
        }
      ]
    },
    {
      "cell_type": "code",
      "metadata": {
        "id": "2jwO_hjXdcRy",
        "outputId": "c9f23885-db87-4a7e-b3b7-8b22bf66f87f",
        "colab": {
          "base_uri": "https://localhost:8080/",
          "height": 913
        }
      },
      "source": [
        "model_4 = SpamRNN(input_size=len(text_field.vocab), hidden_size=20, num_classes=2)\n",
        "train_rnn_network(model_4, train, valid, batch_size=16, num_epochs=20, learning_rate=1e-4)"
      ],
      "execution_count": null,
      "outputs": [
        {
          "output_type": "stream",
          "text": [
            "epoch:  0 train acc:  0.7033164515602026 val acc:  0.4744394618834081\n",
            "epoch:  1 train acc:  0.7551053749387355 val acc:  0.5542600896860986\n",
            "epoch:  2 train acc:  0.9246855089037739 val acc:  0.9560538116591928\n",
            "epoch:  3 train acc:  0.9117791210586506 val acc:  0.9587443946188341\n",
            "epoch:  4 train acc:  0.9356314327724228 val acc:  0.9560538116591928\n",
            "epoch:  5 train acc:  0.943309916680281 val acc:  0.9381165919282511\n",
            "epoch:  6 train acc:  0.9488645646136252 val acc:  0.9605381165919282\n",
            "epoch:  7 train acc:  0.950334912595981 val acc:  0.957847533632287\n",
            "epoch:  8 train acc:  0.9529488645646136 val acc:  0.9542600896860987\n",
            "epoch:  9 train acc:  0.954909328541088 val acc:  0.9704035874439462\n",
            "epoch:  10 train acc:  0.9563796765234439 val acc:  0.9641255605381166\n",
            "epoch:  11 train acc:  0.9589936284920765 val acc:  0.9721973094170404\n",
            "epoch:  12 train acc:  0.9606273484724718 val acc:  0.9659192825112107\n",
            "epoch:  13 train acc:  0.9603006044763928 val acc:  0.9623318385650225\n",
            "epoch:  14 train acc:  0.9652017644175789 val acc:  0.968609865470852\n",
            "epoch:  15 train acc:  0.9576866525077602 val acc:  0.97847533632287\n",
            "epoch:  16 train acc:  0.967979088384251 val acc:  0.9596412556053812\n",
            "epoch:  17 train acc:  0.9702662963568044 val acc:  0.9623318385650225\n",
            "epoch:  18 train acc:  0.9702662963568044 val acc:  0.9695067264573991\n",
            "epoch:  19 train acc:  0.9720633883352393 val acc:  0.9650224215246637\n"
          ],
          "name": "stdout"
        },
        {
          "output_type": "display_data",
          "data": {
            "image/png": "[encoded data removed]",
            "text/plain": [
              "<Figure size 432x288 with 1 Axes>"
            ]
          },
          "metadata": {
            "tags": [],
            "needs_background": "light"
          }
        },
        {
          "output_type": "display_data",
          "data": {
            "image/png": "[encoded data removed]",
            "text/plain": [
              "<Figure size 432x288 with 1 Axes>"
            ]
          },
          "metadata": {
            "tags": [],
            "needs_background": "light"
          }
        }
      ]
    },
    {
      "cell_type": "code",
      "metadata": {
        "id": "vJwnhkQvdknn",
        "outputId": "f3262a85-806b-4323-89a2-66d4f2faea1d",
        "colab": {
          "base_uri": "https://localhost:8080/",
          "height": 913
        }
      },
      "source": [
        "model_5 = SpamRNN(input_size=len(text_field.vocab), hidden_size=20, num_classes=2)\n",
        "train_rnn_network(model_5, train, valid, batch_size=32, num_epochs=20, learning_rate=1e-5)"
      ],
      "execution_count": null,
      "outputs": [
        {
          "output_type": "stream",
          "text": [
            "epoch:  0 train acc:  0.5296520176441758 val acc:  0.12466367713004484\n",
            "epoch:  1 train acc:  0.5296520176441758 val acc:  0.12466367713004484\n",
            "epoch:  2 train acc:  0.5296520176441758 val acc:  0.12466367713004484\n",
            "epoch:  3 train acc:  0.5294886456461363 val acc:  0.12466367713004484\n",
            "epoch:  4 train acc:  0.5294886456461363 val acc:  0.12466367713004484\n",
            "epoch:  5 train acc:  0.5294886456461363 val acc:  0.12466367713004484\n",
            "epoch:  6 train acc:  0.5294886456461363 val acc:  0.12466367713004484\n",
            "epoch:  7 train acc:  0.5294886456461363 val acc:  0.12466367713004484\n",
            "epoch:  8 train acc:  0.5294886456461363 val acc:  0.12466367713004484\n",
            "epoch:  9 train acc:  0.5294886456461363 val acc:  0.12466367713004484\n",
            "epoch:  10 train acc:  0.5294886456461363 val acc:  0.12466367713004484\n",
            "epoch:  11 train acc:  0.5294886456461363 val acc:  0.12466367713004484\n",
            "epoch:  12 train acc:  0.5294886456461363 val acc:  0.12466367713004484\n",
            "epoch:  13 train acc:  0.5294886456461363 val acc:  0.12466367713004484\n",
            "epoch:  14 train acc:  0.5303055056363339 val acc:  0.12556053811659193\n",
            "epoch:  15 train acc:  0.5309589936284921 val acc:  0.12556053811659193\n",
            "epoch:  16 train acc:  0.5309589936284921 val acc:  0.12556053811659193\n",
            "epoch:  17 train acc:  0.5314491096226107 val acc:  0.12556053811659193\n",
            "epoch:  18 train acc:  0.5324293416108479 val acc:  0.12556053811659193\n",
            "epoch:  19 train acc:  0.5348799215814409 val acc:  0.13094170403587443\n"
          ],
          "name": "stdout"
        },
        {
          "output_type": "display_data",
          "data": {
            "image/png": "[encoded data removed]",
            "text/plain": [
              "<Figure size 432x288 with 1 Axes>"
            ]
          },
          "metadata": {
            "tags": [],
            "needs_background": "light"
          }
        },
        {
          "output_type": "display_data",
          "data": {
            "image/png": "[encoded data removed]",
            "text/plain": [
              "<Figure size 432x288 with 1 Axes>"
            ]
          },
          "metadata": {
            "tags": [],
            "needs_background": "light"
          }
        }
      ]
    },
    {
      "cell_type": "markdown",
      "metadata": {
        "id": "fE3eRkDAa91F"
      },
      "source": [
        "### Part (c) [4 pt]\n",
        "\n",
        "Choose at least 4 hyperparameters to tune. Explain how you tuned the hyperparameters.\n",
        "You don't need to include your training curve for every model you trained.\n",
        "Instead, explain what hyperparemters you tuned, what the best validation accuracy was,\n",
        "and the reasoning behind the hyperparameter decisions you made.\n",
        "\n",
        "For this assignment, you should tune more than just your learning rate and epoch. \n",
        "Choose at least 2 hyperparameters that are unrelated to the optimizer."
      ]
    },
    {
      "cell_type": "code",
      "metadata": {
        "id": "A2GEWfDca91G"
      },
      "source": [
        "#Hyperparameter 1: Batch size\n",
        "#Decreased batch size so that parameters would be updated more frequently, so that they may be more accurate\n",
        "#Since runtime is fairly quick, decreasing batch size is ok\n",
        "#Accuracy:\n",
        "\n",
        "#Hyperparameter 2: Learning rate\n",
        "#Lower learning rate\n",
        "#since we are able to coverge quickly to a high accuracy, we might want to move slower to see if we can get to \n",
        "#a local minimum without overshooting\n",
        "#Accuracy:\n",
        "\n",
        "#Hyperparameter 3: Hidden size\n",
        "#Increase hidden size so that there are more parameters\n",
        "#Might be able to capture more information\n",
        "#Accuracy:\n",
        "\n",
        "#Hyperparameter 4: Max pool/Avg pool\n",
        "#Using this method to try and increase accuracy\n",
        "#Accuracy:\n",
        "\n",
        "#Hyperparameter 5: Number of epochs\n",
        "#Results get better the more it is run\n",
        "#Accuracy:"
      ],
      "execution_count": null,
      "outputs": []
    },
    {
      "cell_type": "markdown",
      "metadata": {
        "id": "v7DY56rKa91I"
      },
      "source": [
        "### Part (d) [2 pt]\n",
        "\n",
        "Before we deploy a machine learning model, we usually want to have a better understanding\n",
        "of how our model performs beyond its validation accuracy. An important metric to track is\n",
        "*how well our model performs in certain subsets of the data*.\n",
        "\n",
        "In particular, what is the model's error rate amongst data with negative labels?\n",
        "This is called the **false positive rate**.\n",
        "\n",
        "What about the model's error rate amongst data with positive labels?\n",
        "This is called the **false negative rate**.\n",
        "\n",
        "Report your final model's false positive and false negative rate across the\n",
        "validation set."
      ]
    },
    {
      "cell_type": "code",
      "metadata": {
        "id": "7ggbQSdba91J"
      },
      "source": [
        "# Create a Dataset of only spam validation examples\n",
        "valid_spam = torchtext.data.Dataset(\n",
        "    [e for e in valid.examples if e.label == 1],\n",
        "    valid.fields)\n",
        "# Create a Dataset of only non-spam validation examples\n",
        "valid_nospam = torchtext.data.Dataset(\n",
        "    [e for e in valid.examples if e.label == 0],\n",
        "    valid.fields)"
      ],
      "execution_count": null,
      "outputs": []
    },
    {
      "cell_type": "code",
      "metadata": {
        "id": "TxdcUGgykerw",
        "outputId": "92d4a299-4d0d-4d57-a5fa-8237766e4f6c",
        "colab": {
          "base_uri": "https://localhost:8080/",
          "height": 51
        }
      },
      "source": [
        "false_pos = 1-get_accuracy(model_1, valid_spam)\n",
        "false_neg = 1-get_accuracy(model_1, valid_nospam)\n",
        "print(\"false pos:\", false_pos)\n",
        "print(\"false neg:\", false_neg)"
      ],
      "execution_count": null,
      "outputs": [
        {
          "output_type": "stream",
          "text": [
            "false pos: 0.02877697841726623\n",
            "false neg: 0.03688524590163933\n"
          ],
          "name": "stdout"
        }
      ]
    },
    {
      "cell_type": "markdown",
      "metadata": {
        "id": "N1iRteb3a91O"
      },
      "source": [
        "### Part (e) [2 pt]\n",
        "\n",
        "The impact of a false positive vs a false negative can be drastically different.\n",
        "If our spam detection algorithm was deployed on your phone, what is the impact\n",
        "of a false positive on the phone's user? What is the impact of a false negative?"
      ]
    },
    {
      "cell_type": "code",
      "metadata": {
        "id": "hFLUOJTGa91Q"
      },
      "source": [
        "#False positive -> spam being labeled as non-spam -> fairly harmless\n",
        "#False negative -> non-spam labeled as spam -> harmful - you may miss important emails because they were labeled as spam"
      ],
      "execution_count": null,
      "outputs": []
    },
    {
      "cell_type": "markdown",
      "metadata": {
        "id": "Gznefulsa91V"
      },
      "source": [
        "## Part 4. Evaluation [11 pt]\n",
        "\n",
        "### Part (a) [1 pt]\n",
        "\n",
        "Report the final test accuracy of your model."
      ]
    },
    {
      "cell_type": "code",
      "metadata": {
        "id": "D5L5D-A1a91W",
        "outputId": "b676d94f-7c4d-4be0-c20d-5677ea69d3a7",
        "colab": {
          "base_uri": "https://localhost:8080/",
          "height": 34
        }
      },
      "source": [
        "test_acc = get_accuracy(model_3, test)\n",
        "print(test_acc)"
      ],
      "execution_count": null,
      "outputs": [
        {
          "output_type": "stream",
          "text": [
            "0.9694793536804309\n"
          ],
          "name": "stdout"
        }
      ]
    },
    {
      "cell_type": "markdown",
      "metadata": {
        "id": "6Hjmd8rca91Y"
      },
      "source": [
        "### Part (b) [3 pt]\n",
        "\n",
        "Report the false positive rate and false negative rate of your model across the test set."
      ]
    },
    {
      "cell_type": "code",
      "metadata": {
        "id": "GFiAKztJa91Z"
      },
      "source": [
        "# Create a Dataset of only spam validation examples\n",
        "test_spam = torchtext.data.Dataset(\n",
        "    [e for e in test.examples if e.label == 1],\n",
        "    test.fields)\n",
        "# Create a Dataset of only non-spam validation examples\n",
        "test_nospam = torchtext.data.Dataset(\n",
        "    [e for e in test.examples if e.label == 0],\n",
        "    test.fields)"
      ],
      "execution_count": null,
      "outputs": []
    },
    {
      "cell_type": "code",
      "metadata": {
        "id": "f7IKmPyIcGHi",
        "outputId": "ac6378fe-9c56-4937-f54f-b31a5c0e9b60",
        "colab": {
          "base_uri": "https://localhost:8080/",
          "height": 51
        }
      },
      "source": [
        "false_pos_t = 1-get_accuracy(model_3, test_spam)\n",
        "false_neg_t = 1-get_accuracy(model_3, test_nospam)\n",
        "print(\"false pos:\", false_pos_t)\n",
        "print(\"false neg:\", false_neg_t)"
      ],
      "execution_count": null,
      "outputs": [
        {
          "output_type": "stream",
          "text": [
            "false pos: 0.04137931034482756\n",
            "false neg: 0.029927760577915352\n"
          ],
          "name": "stdout"
        }
      ]
    },
    {
      "cell_type": "markdown",
      "metadata": {
        "id": "0jGHtQFpa91b"
      },
      "source": [
        "### Part (c) [3 pt]\n",
        "\n",
        "What is your model's prediction of the **probability** that\n",
        "the SMS message \"machine learning is sooo cool!\" is spam?\n",
        "\n",
        "Hint: To begin, use `text_field.vocab.stoi` to look up the index\n",
        "of each character in the vocabulary."
      ]
    },
    {
      "cell_type": "code",
      "metadata": {
        "id": "h_2nSJq8a91b"
      },
      "source": [
        "msg = \"machine learning is sooo cool!\""
      ],
      "execution_count": null,
      "outputs": []
    },
    {
      "cell_type": "code",
      "metadata": {
        "id": "CSCVwW3OAojx",
        "outputId": "186289a6-0a68-489f-aa31-7f4b134fca0a",
        "colab": {
          "base_uri": "https://localhost:8080/",
          "height": 34
        }
      },
      "source": [
        "some_tens = []\n",
        "\n",
        "for letters in msg:\n",
        "  some_tens.append(text_field.vocab.stoi[letters])\n",
        "\n",
        "print(some_tens)\n",
        "#text_field.vocab.itos"
      ],
      "execution_count": null,
      "outputs": [
        {
          "output_type": "stream",
          "text": [
            "[18, 6, 17, 13, 9, 7, 3, 2, 11, 3, 6, 8, 7, 9, 7, 22, 2, 9, 10, 2, 10, 4, 4, 4, 2, 17, 4, 4, 11, 44]\n"
          ],
          "name": "stdout"
        }
      ]
    },
    {
      "cell_type": "code",
      "metadata": {
        "id": "8M81U6CgIfcm"
      },
      "source": [
        "some_tens = [ some_tens ]\n",
        "\n",
        "final_ans = model_3(some_tens)\n",
        "final_ans = torch.nn.functional.softmax(final_ans, dim=1)"
      ],
      "execution_count": null,
      "outputs": []
    },
    {
      "cell_type": "code",
      "metadata": {
        "id": "HEwRXgFWj_fp",
        "outputId": "eff8a79e-b8ad-4465-b383-e1bda83bfb7e",
        "colab": {
          "base_uri": "https://localhost:8080/",
          "height": 68
        }
      },
      "source": [
        "print(\"Probability of being spam:\")\n",
        "print(float(final_ans[0][1])*100)\n",
        "print(\"%\")"
      ],
      "execution_count": null,
      "outputs": [
        {
          "output_type": "stream",
          "text": [
            "Probability of being spam:\n",
            "1.159009337425232\n",
            "%\n"
          ],
          "name": "stdout"
        }
      ]
    },
    {
      "cell_type": "markdown",
      "metadata": {
        "id": "QD1zgYJpa91f"
      },
      "source": [
        "### Part (d) [4 pt]\n",
        "\n",
        "Do you think detecting spam is an easy or difficult task?\n",
        "\n",
        "Since machine learning models are expensive to train and deploy, it is very\n",
        "important to compare our models against baseline models: a simple\n",
        "model that is easy to build and inexpensive to run that we can compare our\n",
        "recurrent neural network model against.\n",
        "\n",
        "Explain how you might build a simple baseline model. This baseline model\n",
        "can be a simple neural network (with very few weights), a hand-written algorithm,\n",
        "or any other strategy that is easy to build and test.\n",
        "\n",
        "**Do not actually build a baseline model. Instead, provide instructions on\n",
        "how to build it.**"
      ]
    },
    {
      "cell_type": "code",
      "metadata": {
        "id": "LTndp-IOa91g"
      },
      "source": [
        "#Baseline model can be a combination of heuristics and previous data\n",
        "#Baseline would compare what user marked as spam with unread email\n",
        "#Given a similarity score >75%, mark it as spam\n",
        "#Also use heuristics -> spam emails have hyperlinks, weird spellings and unknown addresses.\n",
        "#Using the information above, calculate a probability that the email is spam."
      ],
      "execution_count": null,
      "outputs": []
    }
  ]
}